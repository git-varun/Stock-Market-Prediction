{
 "cells": [
  {
   "cell_type": "code",
   "execution_count": 10,
   "metadata": {},
   "outputs": [],
   "source": [
    "import numpy as np\n",
    "import pandas as pd"
   ]
  },
  {
   "cell_type": "code",
   "execution_count": 16,
   "metadata": {},
   "outputs": [],
   "source": [
    "import matplotlib.pyplot as plt"
   ]
  },
  {
   "cell_type": "code",
   "execution_count": 11,
   "metadata": {},
   "outputs": [],
   "source": [
    "init_data = pd.read_csv(\"Okcoin_BTCUSD_d.csv\",header=0)"
   ]
  },
  {
   "cell_type": "code",
   "execution_count": 12,
   "metadata": {},
   "outputs": [
    {
     "name": "stdout",
     "output_type": "stream",
     "text": [
      "<class 'pandas.core.frame.DataFrame'>\n",
      "RangeIndex: 1900 entries, 0 to 1899\n",
      "Data columns (total 8 columns):\n",
      "Date          1900 non-null object\n",
      "Symbol        1900 non-null object\n",
      "Open          1900 non-null float64\n",
      "High          1900 non-null float64\n",
      "Low           1900 non-null float64\n",
      "Close         1900 non-null float64\n",
      "Volume BTC    1900 non-null float64\n",
      "Volume USD    1900 non-null float64\n",
      "dtypes: float64(6), object(2)\n",
      "memory usage: 118.9+ KB\n",
      "None\n"
     ]
    }
   ],
   "source": [
    "print(init_data.info())"
   ]
  },
  {
   "cell_type": "code",
   "execution_count": 13,
   "metadata": {},
   "outputs": [
    {
     "data": {
      "text/html": [
       "<div>\n",
       "<style scoped>\n",
       "    .dataframe tbody tr th:only-of-type {\n",
       "        vertical-align: middle;\n",
       "    }\n",
       "\n",
       "    .dataframe tbody tr th {\n",
       "        vertical-align: top;\n",
       "    }\n",
       "\n",
       "    .dataframe thead th {\n",
       "        text-align: right;\n",
       "    }\n",
       "</style>\n",
       "<table border=\"1\" class=\"dataframe\">\n",
       "  <thead>\n",
       "    <tr style=\"text-align: right;\">\n",
       "      <th></th>\n",
       "      <th>Date</th>\n",
       "      <th>Symbol</th>\n",
       "      <th>Open</th>\n",
       "      <th>High</th>\n",
       "      <th>Low</th>\n",
       "      <th>Close</th>\n",
       "      <th>Volume BTC</th>\n",
       "      <th>Volume USD</th>\n",
       "    </tr>\n",
       "  </thead>\n",
       "  <tbody>\n",
       "    <tr>\n",
       "      <td>0</td>\n",
       "      <td>2019-10-17</td>\n",
       "      <td>BTCUSD</td>\n",
       "      <td>8334.49</td>\n",
       "      <td>8334.49</td>\n",
       "      <td>8334.49</td>\n",
       "      <td>8334.49</td>\n",
       "      <td>0.0</td>\n",
       "      <td>0.0</td>\n",
       "    </tr>\n",
       "    <tr>\n",
       "      <td>1</td>\n",
       "      <td>2019-10-16</td>\n",
       "      <td>BTCUSD</td>\n",
       "      <td>8334.49</td>\n",
       "      <td>8334.49</td>\n",
       "      <td>8334.49</td>\n",
       "      <td>8334.49</td>\n",
       "      <td>0.0</td>\n",
       "      <td>0.0</td>\n",
       "    </tr>\n",
       "    <tr>\n",
       "      <td>2</td>\n",
       "      <td>2019-10-15</td>\n",
       "      <td>BTCUSD</td>\n",
       "      <td>8334.49</td>\n",
       "      <td>8334.49</td>\n",
       "      <td>8334.49</td>\n",
       "      <td>8334.49</td>\n",
       "      <td>0.0</td>\n",
       "      <td>0.0</td>\n",
       "    </tr>\n",
       "    <tr>\n",
       "      <td>3</td>\n",
       "      <td>2019-10-14</td>\n",
       "      <td>BTCUSD</td>\n",
       "      <td>8334.49</td>\n",
       "      <td>8334.49</td>\n",
       "      <td>8334.49</td>\n",
       "      <td>8334.49</td>\n",
       "      <td>0.0</td>\n",
       "      <td>0.0</td>\n",
       "    </tr>\n",
       "    <tr>\n",
       "      <td>4</td>\n",
       "      <td>2019-10-13</td>\n",
       "      <td>BTCUSD</td>\n",
       "      <td>8334.49</td>\n",
       "      <td>8334.49</td>\n",
       "      <td>8334.49</td>\n",
       "      <td>8334.49</td>\n",
       "      <td>0.0</td>\n",
       "      <td>0.0</td>\n",
       "    </tr>\n",
       "  </tbody>\n",
       "</table>\n",
       "</div>"
      ],
      "text/plain": [
       "         Date  Symbol     Open     High      Low    Close  Volume BTC  \\\n",
       "0  2019-10-17  BTCUSD  8334.49  8334.49  8334.49  8334.49         0.0   \n",
       "1  2019-10-16  BTCUSD  8334.49  8334.49  8334.49  8334.49         0.0   \n",
       "2  2019-10-15  BTCUSD  8334.49  8334.49  8334.49  8334.49         0.0   \n",
       "3  2019-10-14  BTCUSD  8334.49  8334.49  8334.49  8334.49         0.0   \n",
       "4  2019-10-13  BTCUSD  8334.49  8334.49  8334.49  8334.49         0.0   \n",
       "\n",
       "   Volume USD  \n",
       "0         0.0  \n",
       "1         0.0  \n",
       "2         0.0  \n",
       "3         0.0  \n",
       "4         0.0  "
      ]
     },
     "execution_count": 13,
     "metadata": {},
     "output_type": "execute_result"
    }
   ],
   "source": [
    "init_data.head()"
   ]
  },
  {
   "cell_type": "code",
   "execution_count": 15,
   "metadata": {},
   "outputs": [
    {
     "data": {
      "text/plain": [
       "Index(['Date', 'Symbol', 'Open', 'High', 'Low', 'Close', 'Volume BTC',\n",
       "       'Volume USD'],\n",
       "      dtype='object')"
      ]
     },
     "execution_count": 15,
     "metadata": {},
     "output_type": "execute_result"
    }
   ],
   "source": [
    "init_data.columns"
   ]
  },
  {
   "cell_type": "code",
   "execution_count": 46,
   "metadata": {},
   "outputs": [
    {
     "data": {
      "text/plain": [
       "<matplotlib.colors.Normalize at 0x26ba1878f60>"
      ]
     },
     "execution_count": 46,
     "metadata": {},
     "output_type": "execute_result"
    },
    {
     "data": {
      "image/png": "[encoded data removed]",
      "text/plain": [
       "<Figure size 720x720 with 1 Axes>"
      ]
     },
     "metadata": {
      "needs_background": "light"
     },
     "output_type": "display_data"
    }
   ],
   "source": [
    "plt.figure(figsize=(10,10))\n",
    "plt.plot('High', data=init_data)\n",
    "plt.plot('Low', data=init_data,)\n",
    "plt.xlabel(\"HIGH_LOW\")\n",
    "plt.ylabel(\"US_Dollar\")\n",
    "plt.legend()\n",
    "plt.Normalize(vmin=0, vmax=100, clip=True)"
   ]
  },
  {
   "cell_type": "code",
   "execution_count": null,
   "metadata": {},
   "outputs": [],
   "source": []
  }
 ],
 "metadata": {
  "kernelspec": {
   "display_name": "Python 3",
   "language": "python",
   "name": "python3"
  },
  "language_info": {
   "codemirror_mode": {
    "name": "ipython",
    "version": 3
   },
   "file_extension": ".py",
   "mimetype": "text/x-python",
   "name": "python",
   "nbconvert_exporter": "python",
   "pygments_lexer": "ipython3",
   "version": "3.6.8"
  }
 },
 "nbformat": 4,
 "nbformat_minor": 2
}
