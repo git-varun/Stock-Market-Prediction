{
 "cells": [
  {
   "cell_type": "code",
   "execution_count": null,
   "metadata": {},
   "outputs": [],
   "source": [
    "import numpy as np\n",
    "import pandas as pd"
   ]
  },
  {
   "cell_type": "code",
   "execution_count": null,
   "metadata": {},
   "outputs": [],
   "source": [
    "import matplotlib.pyplot as plt\n",
    "import matplotlib.dates as md"
   ]
  },
  {
   "cell_type": "code",
   "execution_count": null,
   "metadata": {},
   "outputs": [],
   "source": [
    "init_data = pd.read_csv(\"GOOG.csv\")"
   ]
  },
  {
   "cell_type": "code",
   "execution_count": null,
   "metadata": {},
   "outputs": [],
   "source": [
    "print(init_data.info())"
   ]
  },
  {
   "cell_type": "code",
   "execution_count": null,
   "metadata": {},
   "outputs": [],
   "source": [
    "init_data.head()"
   ]
  },
  {
   "cell_type": "code",
   "execution_count": null,
   "metadata": {},
   "outputs": [],
   "source": [
    "data = init_data.drop([\"Adj Close\"], axis=1).copy()"
   ]
  },
  {
   "cell_type": "code",
   "execution_count": null,
   "metadata": {},
   "outputs": [],
   "source": [
    "data.head()"
   ]
  },
  {
   "cell_type": "code",
   "execution_count": null,
   "metadata": {},
   "outputs": [],
   "source": [
    "data[\"Date\"] = pd.to_datetime(data[\"Date\"])"
   ]
  },
  {
   "cell_type": "code",
   "execution_count": null,
   "metadata": {},
   "outputs": [],
   "source": [
    "plt.figure(figsize=(14, 8))\n",
    "plt.plot('High', data=init_data)\n",
    "plt.plot('Low', data=init_data,)\n",
    "plt.xlabel(\"HIGH_LOW\")\n",
    "plt.ylabel(\"US_Dollar\")\n",
    "plt.legend()\n",
    "plt.Normalize(vmin=0, vmax=100, clip=True)\n",
    "plt.grid(which='both')"
   ]
  },
  {
   "cell_type": "code",
   "execution_count": null,
   "metadata": {},
   "outputs": [],
   "source": [
    "plt.figure(figsize=(14,8))\n",
    "plt.plot(data[\"Volume\"])\n",
    "plt.ylabel(\"Volume\")\n",
    "plt.xlabel(\"Days\")\n",
    "plt.legend(\"V\",loc=\"upper left\")"
   ]
  },
  {
   "cell_type": "code",
   "execution_count": null,
   "metadata": {},
   "outputs": [],
   "source": [
    "data.isna().sum()"
   ]
  },
  {
   "cell_type": "code",
   "execution_count": null,
   "metadata": {},
   "outputs": [],
   "source": [
    "from sklearn.preprocessing import MinMaxScaler \n",
    "from sklearn.model_selection import train_test_split"
   ]
  },
  {
   "cell_type": "code",
   "execution_count": null,
   "metadata": {},
   "outputs": [],
   "source": [
    "train_cols = data.columns[1:]\n",
    "print(train_cols)"
   ]
  },
  {
   "cell_type": "code",
   "execution_count": null,
   "metadata": {},
   "outputs": [],
   "source": [
    "min_max = MinMaxScaler()\n",
    "norm_data = min_max.fit_transform(data[train_cols])"
   ]
  },
  {
   "cell_type": "code",
   "execution_count": null,
   "metadata": {},
   "outputs": [],
   "source": [
    "X_train, X_test = train_test_split(norm_data, test_size=0.2, train_size=0.8, shuffle=False)"
   ]
  },
  {
   "cell_type": "code",
   "execution_count": null,
   "metadata": {},
   "outputs": [],
   "source": [
    "def dataseries(mat, y_col, time_stamp):\n",
    "    \n",
    "    dim0 = mat.shape[0] - time_stamp\n",
    "    dim1 = mat.shape[1]\n",
    "    \n",
    "    x = np.zeros((dim0,time_stamp,dim1))\n",
    "    y = np.zeros((dim0))\n",
    "     \n",
    "    for itr in range(dim0):\n",
    "        x[itr] = mat[itr:time_stamp+itr]\n",
    "        y[itr] = mat[time_stamp, y_col]\n",
    "        \n",
    "    return x,y"
   ]
  },
  {
   "cell_type": "code",
   "execution_count": null,
   "metadata": {},
   "outputs": [],
   "source": [
    "def trimseries(mat, batch):\n",
    "    \n",
    "    no_of_row_remined = mat.shape[0]%batch\n",
    "    \n",
    "    if no_of_row_remined != 0 :\n",
    "        mat = mat[:-no_of_row_remined]\n",
    "        \n",
    "    return mat"
   ]
  },
  {
   "cell_type": "code",
   "execution_count": null,
   "metadata": {},
   "outputs": [],
   "source": [
    "y_col = 3\n",
    "time_stamp = 60\n",
    "batch_size = 20\n",
    "learning_rate = 0.001\n",
    "OUTPUT_PATH = \"C:\\\\Users\\\\varun\\\\Documents\\\\Pro\\jects\\\\Stock-Market-Prediction\"\n",
    "epochs = 200"
   ]
  },
  {
   "cell_type": "code",
   "execution_count": null,
   "metadata": {},
   "outputs": [],
   "source": [
    "x_t, y_t = dataseries(X_train, y_col, time_stamp)\n",
    "x_t = trimseries(x_t, batch_size)\n",
    "y_t = trimseries(y_t, batch_size)\n",
    "x_test, y_test = dataseries(X_test, y_col, time_stamp)\n",
    "x_val, x_test_t  = np.split(trimseries(x_test, batch_size),2)\n",
    "y_val, y_test_t  = np.split(trimseries(y_test, batch_size),2)"
   ]
  },
  {
   "cell_type": "code",
   "execution_count": null,
   "metadata": {
    "scrolled": true
   },
   "outputs": [],
   "source": [
    "import tensorflow as tf\n",
    "import tensorflow.keras as k\n",
    "import os\n",
    "import sys\n",
    "sys.executable"
   ]
  },
  {
   "cell_type": "code",
   "execution_count": null,
   "metadata": {},
   "outputs": [],
   "source": [
    "#model.reset_states()"
   ]
  },
  {
   "cell_type": "code",
   "execution_count": null,
   "metadata": {},
   "outputs": [],
   "source": [
    "x_t.shape[2]"
   ]
  },
  {
   "cell_type": "code",
   "execution_count": null,
   "metadata": {},
   "outputs": [],
   "source": [
    "def Model(batch_size, learning_rate):\n",
    "    \n",
    "    model = k.models.Sequential()\n",
    "    \n",
    "    model.add(k.layers.LSTM(128, batch_input_shape=(batch_size, 60, 5), dropout=0.0, recurrent_dropout=0.0, stateful=True,     kernel_initializer='random_uniform'))\n",
    "    model.add(k.layers.Dropout(0.2))\n",
    "    model.add(k.layers.Dense(32,activation='relu'))\n",
    "    model.add(k.layers.Dense(1,activation='sigmoid'))\n",
    "    \n",
    "    optimizer = k.optimizers.RMSprop(learning_rate = learning_rate)\n",
    "    \n",
    "    model.compile(loss='mean_squared_error', optimizer=optimizer)\n",
    "    \n",
    "    return model"
   ]
  },
  {
   "cell_type": "code",
   "execution_count": null,
   "metadata": {},
   "outputs": [],
   "source": [
    "def fit_model(model, OUTPUT_PATH, epochs, X_val, batch_size, y_val):\n",
    "    \n",
    "    csv_logger = k.callbacks.CSVLogger(os.path.join(OUTPUT_PATH, 'LSTM_model' + '.log'), append=True)\n",
    "    \n",
    "    history = model.fit(x_t, y_t, epochs=epochs, verbose=2, batch_size=batch_size,\n",
    "                    shuffle=False, validation_data=(trimseries(x_val, batch_size),\n",
    "                    trimseries(y_val, batch_size)))\n",
    "    return history"
   ]
  },
  {
   "cell_type": "code",
   "execution_count": null,
   "metadata": {},
   "outputs": [],
   "source": [
    "def predict(X_test, y_test, batch_size):\n",
    "    \n",
    "    y_pred = model.predict(trimseries(x_test_t, batch_size),batch_size=batch_size)\n",
    "    y_pred  = y_pred.flatten()\n",
    "    y_test_t = trimseries(y_test_t, batch_size)\n",
    "    erorr = k.metrics.mean_squared_error(y_test_t,y_pred)\n",
    "    \n",
    "    return error"
   ]
  },
  {
   "cell_type": "code",
   "execution_count": null,
   "metadata": {},
   "outputs": [],
   "source": [
    "#y_pred_org = (y_pred * min_max.data_range_[3]) + min_max.data_min_[3]\n",
    "#y_test_t_org = (y_test_t * min_max.data_range_[3]) + min_max.data_min_[3]"
   ]
  },
  {
   "cell_type": "code",
   "execution_count": null,
   "metadata": {},
   "outputs": [],
   "source": [
    "def plot_diff(history):\n",
    "    \n",
    "    ax = plt.figure(figsize=(12,8))\n",
    "    plt.plot(history.history['loss'])\n",
    "    plt.plot(history.history['val_loss'])\n",
    "    plt.xlabel(\"loss\")\n",
    "    plt.ylabel(\"Val_loss\")\n",
    "    #plt.legend(labels)\n",
    "    print(ax)\n",
    "    pass"
   ]
  },
  {
   "cell_type": "code",
   "execution_count": null,
   "metadata": {},
   "outputs": [],
   "source": [
    "from sklearn.model_selection import GridSearchCV"
   ]
  },
  {
   "cell_type": "code",
   "execution_count": null,
   "metadata": {},
   "outputs": [],
   "source": [
    "parameters = dict(epochs = [10, 20, 30], \n",
    "                  batch_size = [20, 60, 90], \n",
    "                  learning_rate = [0.1, 0.01, 0.001])"
   ]
  },
  {
   "cell_type": "code",
   "execution_count": null,
   "metadata": {},
   "outputs": [],
   "source": [
    "model_grid = k.wrappers.scikit_learn.KerasRegressor(build_fn=Model)"
   ]
  },
  {
   "cell_type": "code",
   "execution_count": null,
   "metadata": {},
   "outputs": [],
   "source": [
    "grid = GridSearchCV(estimator=model_grid, param_grid=parameters, cv=3)\n",
    "grid_result = grid.fit(x_t, y_t)"
   ]
  },
  {
   "cell_type": "code",
   "execution_count": null,
   "metadata": {},
   "outputs": [],
   "source": [
    "#model = Model(batch_size, time_stamp, x_t, learning_rate)"
   ]
  },
  {
   "cell_type": "code",
   "execution_count": null,
   "metadata": {},
   "outputs": [],
   "source": [
    "#fit_model(model, OUTPUT_PATH, epochs, x_val, batch_size, y_val)"
   ]
  },
  {
   "cell_type": "code",
   "execution_count": null,
   "metadata": {},
   "outputs": [],
   "source": [
    "grid_result.best_result_"
   ]
  },
  {
   "cell_type": "code",
   "execution_count": null,
   "metadata": {},
   "outputs": [],
   "source": []
  }
 ],
 "metadata": {
  "kernelspec": {
   "display_name": "Python 3",
   "language": "python",
   "name": "python3"
  },
  "language_info": {
   "codemirror_mode": {
    "name": "ipython",
    "version": 3
   },
   "file_extension": ".py",
   "mimetype": "text/x-python",
   "name": "python",
   "nbconvert_exporter": "python",
   "pygments_lexer": "ipython3",
   "version": "3.7.5"
  }
 },
 "nbformat": 4,
 "nbformat_minor": 2
}
