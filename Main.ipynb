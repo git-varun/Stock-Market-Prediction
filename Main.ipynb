{
 "cells": [
  {
   "cell_type": "code",
   "execution_count": 1,
   "metadata": {},
   "outputs": [],
   "source": [
    "import numpy as np\n",
    "import pandas as pd\n",
    "import matplotlib.pyplot as plt\n",
    "import matplotlib.dates as md\n",
    "import logging"
   ]
  },
  {
   "cell_type": "code",
   "execution_count": 2,
   "metadata": {},
   "outputs": [],
   "source": [
    "from hyperopt import Trials, STATUS_OK, tpe, fmin, hp\n",
    "from sklearn.model_selection import GridSearchCV"
   ]
  },
  {
   "cell_type": "code",
   "execution_count": 29,
   "metadata": {},
   "outputs": [],
   "source": [
    "logging.basicConfig(level = logging.DEBUG)\n",
    "\n",
    "logger = logging.getLogger(__name__)\n",
    "\n",
    "filehandler = logging.FileHandler('STOCK_PREDICTION.log')\n",
    "formater = logging.Formatter('%(asctime)-15s %(user)-8s %(message)s')\n",
    "filehandler.setFormatter(formater)\n",
    "\n",
    "logger.addHandler(filehandler)"
   ]
  },
  {
   "cell_type": "code",
   "execution_count": 30,
   "metadata": {},
   "outputs": [
    {
     "name": "stdout",
     "output_type": "stream",
     "text": [
      "<class 'pandas.core.frame.DataFrame'>\n",
      "RangeIndex: 2694 entries, 0 to 2693\n",
      "Data columns (total 7 columns):\n",
      "Date         2694 non-null object\n",
      "Open         2681 non-null float64\n",
      "High         2681 non-null float64\n",
      "Low          2681 non-null float64\n",
      "Close        2681 non-null float64\n",
      "Adj Close    2681 non-null float64\n",
      "Volume       2681 non-null float64\n",
      "dtypes: float64(6), object(1)\n",
      "memory usage: 147.5+ KB\n",
      "None\n"
     ]
    }
   ],
   "source": [
    "init_data = pd.read_csv(\"TATASTEEL.NS .csv\")\n",
    "print(init_data.info())"
   ]
  },
  {
   "cell_type": "code",
   "execution_count": 31,
   "metadata": {},
   "outputs": [
    {
     "data": {
      "text/html": [
       "<div>\n",
       "<style scoped>\n",
       "    .dataframe tbody tr th:only-of-type {\n",
       "        vertical-align: middle;\n",
       "    }\n",
       "\n",
       "    .dataframe tbody tr th {\n",
       "        vertical-align: top;\n",
       "    }\n",
       "\n",
       "    .dataframe thead th {\n",
       "        text-align: right;\n",
       "    }\n",
       "</style>\n",
       "<table border=\"1\" class=\"dataframe\">\n",
       "  <thead>\n",
       "    <tr style=\"text-align: right;\">\n",
       "      <th></th>\n",
       "      <th>Open</th>\n",
       "      <th>High</th>\n",
       "      <th>Low</th>\n",
       "      <th>Close</th>\n",
       "      <th>Adj Close</th>\n",
       "      <th>Volume</th>\n",
       "    </tr>\n",
       "  </thead>\n",
       "  <tbody>\n",
       "    <tr>\n",
       "      <th>count</th>\n",
       "      <td>2681.000000</td>\n",
       "      <td>2681.000000</td>\n",
       "      <td>2681.000000</td>\n",
       "      <td>2681.000000</td>\n",
       "      <td>2681.000000</td>\n",
       "      <td>2.681000e+03</td>\n",
       "    </tr>\n",
       "    <tr>\n",
       "      <th>mean</th>\n",
       "      <td>433.616820</td>\n",
       "      <td>440.183153</td>\n",
       "      <td>426.422516</td>\n",
       "      <td>433.026507</td>\n",
       "      <td>381.626018</td>\n",
       "      <td>6.866629e+06</td>\n",
       "    </tr>\n",
       "    <tr>\n",
       "      <th>std</th>\n",
       "      <td>126.519832</td>\n",
       "      <td>127.561919</td>\n",
       "      <td>125.207377</td>\n",
       "      <td>126.301668</td>\n",
       "      <td>119.260351</td>\n",
       "      <td>4.083475e+06</td>\n",
       "    </tr>\n",
       "    <tr>\n",
       "      <th>min</th>\n",
       "      <td>142.910995</td>\n",
       "      <td>151.341995</td>\n",
       "      <td>141.671997</td>\n",
       "      <td>144.625000</td>\n",
       "      <td>109.650978</td>\n",
       "      <td>0.000000e+00</td>\n",
       "    </tr>\n",
       "    <tr>\n",
       "      <th>25%</th>\n",
       "      <td>346.938995</td>\n",
       "      <td>352.178986</td>\n",
       "      <td>340.269989</td>\n",
       "      <td>346.463013</td>\n",
       "      <td>300.818573</td>\n",
       "      <td>4.202350e+06</td>\n",
       "    </tr>\n",
       "    <tr>\n",
       "      <th>50%</th>\n",
       "      <td>427.588013</td>\n",
       "      <td>434.829010</td>\n",
       "      <td>419.200012</td>\n",
       "      <td>427.063995</td>\n",
       "      <td>364.043365</td>\n",
       "      <td>5.853219e+06</td>\n",
       "    </tr>\n",
       "    <tr>\n",
       "      <th>75%</th>\n",
       "      <td>534.390015</td>\n",
       "      <td>541.677979</td>\n",
       "      <td>527.005981</td>\n",
       "      <td>533.198975</td>\n",
       "      <td>464.282532</td>\n",
       "      <td>8.319283e+06</td>\n",
       "    </tr>\n",
       "    <tr>\n",
       "      <th>max</th>\n",
       "      <td>745.755005</td>\n",
       "      <td>755.520020</td>\n",
       "      <td>734.797974</td>\n",
       "      <td>746.468994</td>\n",
       "      <td>714.714783</td>\n",
       "      <td>5.185835e+07</td>\n",
       "    </tr>\n",
       "  </tbody>\n",
       "</table>\n",
       "</div>"
      ],
      "text/plain": [
       "              Open         High          Low        Close    Adj Close  \\\n",
       "count  2681.000000  2681.000000  2681.000000  2681.000000  2681.000000   \n",
       "mean    433.616820   440.183153   426.422516   433.026507   381.626018   \n",
       "std     126.519832   127.561919   125.207377   126.301668   119.260351   \n",
       "min     142.910995   151.341995   141.671997   144.625000   109.650978   \n",
       "25%     346.938995   352.178986   340.269989   346.463013   300.818573   \n",
       "50%     427.588013   434.829010   419.200012   427.063995   364.043365   \n",
       "75%     534.390015   541.677979   527.005981   533.198975   464.282532   \n",
       "max     745.755005   755.520020   734.797974   746.468994   714.714783   \n",
       "\n",
       "             Volume  \n",
       "count  2.681000e+03  \n",
       "mean   6.866629e+06  \n",
       "std    4.083475e+06  \n",
       "min    0.000000e+00  \n",
       "25%    4.202350e+06  \n",
       "50%    5.853219e+06  \n",
       "75%    8.319283e+06  \n",
       "max    5.185835e+07  "
      ]
     },
     "execution_count": 31,
     "metadata": {},
     "output_type": "execute_result"
    }
   ],
   "source": [
    "init_data.describe()"
   ]
  },
  {
   "cell_type": "code",
   "execution_count": 32,
   "metadata": {},
   "outputs": [
    {
     "name": "stdout",
     "output_type": "stream",
     "text": [
      "         Date        Open        High         Low       Close      Volume\n",
      "0  2009-01-02  218.701004  224.559998  216.270996  218.748001   5579516.0\n",
      "1  2009-01-05  221.796997  236.279007  221.606995  233.992004   7901583.0\n",
      "2  2009-01-06  233.419998  242.947998  226.942001  235.373993   7856935.0\n",
      "3  2009-01-07  238.279007  248.378006  219.128998  222.701996  10521837.0\n",
      "4  2009-01-09  219.128998  224.845993  198.360001  204.837997   8807182.0\n",
      "5  2009-01-12  202.742004  206.220001  188.975006  190.690002   7365777.0\n",
      "6  2009-01-13  186.832001  198.169006  181.973007  192.929001   8848654.0\n",
      "7  2009-01-14  197.216003  205.505005  195.787003  203.028000   5342200.0\n",
      "8  2009-01-15  196.264008  196.264008  186.117004  188.356003   7912608.0\n",
      "9  2009-01-16  190.546997  198.169006  182.544006  194.406006   9753831.0\n"
     ]
    }
   ],
   "source": [
    "data = init_data.drop([\"Adj Close\"], axis=1).copy()\n",
    "print(data.head(10))"
   ]
  },
  {
   "cell_type": "code",
   "execution_count": 33,
   "metadata": {},
   "outputs": [
    {
     "name": "stdout",
     "output_type": "stream",
     "text": [
      "Date       0\n",
      "Open      13\n",
      "High      13\n",
      "Low       13\n",
      "Close     13\n",
      "Volume    13\n",
      "dtype: int64\n"
     ]
    }
   ],
   "source": [
    "data[\"Date\"] = pd.to_datetime(data[\"Date\"])\n",
    "print(data.isna().sum())"
   ]
  },
  {
   "cell_type": "code",
   "execution_count": 34,
   "metadata": {},
   "outputs": [],
   "source": [
    "data.fillna(value=\"nan\", inplace=True)"
   ]
  },
  {
   "cell_type": "code",
   "execution_count": 35,
   "metadata": {},
   "outputs": [],
   "source": [
    "def avg(data):\n",
    "    for i in range(len(data)):\n",
    "        if data[i] == \"nan\":\n",
    "            data[i] = (data[i-1] + data[i-2] + data[i-3])/3\n",
    "        \n",
    "    return data"
   ]
  },
  {
   "cell_type": "code",
   "execution_count": 36,
   "metadata": {},
   "outputs": [
    {
     "name": "stderr",
     "output_type": "stream",
     "text": [
      "C:\\Users\\varun\\AppData\\Roaming\\Python\\Python37\\site-packages\\ipykernel_launcher.py:4: SettingWithCopyWarning: \n",
      "A value is trying to be set on a copy of a slice from a DataFrame\n",
      "\n",
      "See the caveats in the documentation: http://pandas.pydata.org/pandas-docs/stable/user_guide/indexing.html#returning-a-view-versus-a-copy\n",
      "  after removing the cwd from sys.path.\n"
     ]
    }
   ],
   "source": [
    "for itr in ['Open', 'Close', 'High', 'Low']:\n",
    "        avg(data[itr])\n",
    "    "
   ]
  },
  {
   "cell_type": "code",
   "execution_count": 37,
   "metadata": {},
   "outputs": [
    {
     "name": "stdout",
     "output_type": "stream",
     "text": [
      "Date      0\n",
      "Open      0\n",
      "High      0\n",
      "Low       0\n",
      "Close     0\n",
      "Volume    0\n",
      "dtype: int64\n"
     ]
    }
   ],
   "source": [
    "print(data.isna().sum())"
   ]
  },
  {
   "cell_type": "markdown",
   "metadata": {},
   "source": [
    "# VISUALIZATION"
   ]
  },
  {
   "cell_type": "code",
   "execution_count": 38,
   "metadata": {},
   "outputs": [
    {
     "data": {
      "text/plain": [
       "<matplotlib.legend.Legend at 0x178b6e2c048>"
      ]
     },
     "execution_count": 38,
     "metadata": {},
     "output_type": "execute_result"
    },
    {
     "data": {
      "image/png": "[encoded data removed]",
      "text/plain": [
       "<Figure size 1008x576 with 1 Axes>"
      ]
     },
     "metadata": {
      "needs_background": "light"
     },
     "output_type": "display_data"
    }
   ],
   "source": [
    "plt.figure(figsize=(14, 8))\n",
    "plt.plot('High', data=init_data)\n",
    "plt.plot('Low', data=init_data)\n",
    "plt.xlabel(\"DAYS\")\n",
    "plt.ylabel(\"US_Dollar\")\n",
    "plt.legend()"
   ]
  },
  {
   "cell_type": "code",
   "execution_count": 12,
   "metadata": {},
   "outputs": [
    {
     "data": {
      "text/plain": [
       "<matplotlib.legend.Legend at 0x178a79eefc8>"
      ]
     },
     "execution_count": 12,
     "metadata": {},
     "output_type": "execute_result"
    },
    {
     "data": {
      "image/png": "[encoded data removed]",
      "text/plain": [
       "<Figure size 1008x576 with 1 Axes>"
      ]
     },
     "metadata": {
      "needs_background": "light"
     },
     "output_type": "display_data"
    }
   ],
   "source": [
    "plt.figure(figsize=(14,8))\n",
    "plt.plot(data[\"Volume\"])\n",
    "plt.ylabel(\"Volume\")\n",
    "plt.xlabel(\"Days\")\n",
    "plt.legend(\"V\",loc=\"upper left\")"
   ]
  },
  {
   "cell_type": "code",
   "execution_count": 13,
   "metadata": {},
   "outputs": [],
   "source": [
    "params = {\"time_steps\":60, \n",
    "          \"batch_size\":30, \n",
    "          \"learning_rate\":0.001, \n",
    "          \"epochs\":30}\n",
    "y_col = 3\n",
    "OUTPUT_PATH = \"C:\\\\Users\\\\varun\\\\Documents\\\\Projects\\\\Stock-Market-Prediction\""
   ]
  },
  {
   "cell_type": "code",
   "execution_count": 14,
   "metadata": {},
   "outputs": [],
   "source": [
    "def build_series(mat, y_col, time_stamp):\n",
    "    \n",
    "    dim0 = mat.shape[0] - time_stamp\n",
    "    dim1 = mat.shape[1]\n",
    "    \n",
    "    x = np.zeros((dim0,time_stamp,dim1))\n",
    "    y = np.zeros((dim0))\n",
    "     \n",
    "    for itr in range(dim0):\n",
    "        x[itr] = mat[itr:time_stamp+itr]\n",
    "        y[itr] = mat[time_stamp+itr, y_col]\n",
    "        \n",
    "    return x,y"
   ]
  },
  {
   "cell_type": "code",
   "execution_count": 15,
   "metadata": {},
   "outputs": [],
   "source": [
    "def trim_series(mat, batch):\n",
    "    \n",
    "    no_of_row_remined = mat.shape[0]%batch\n",
    "    \n",
    "    if no_of_row_remined != 0 :\n",
    "        mat = mat[:-no_of_row_remined]\n",
    "        \n",
    "    return mat"
   ]
  },
  {
   "cell_type": "code",
   "execution_count": 16,
   "metadata": {},
   "outputs": [],
   "source": [
    "from sklearn.preprocessing import MinMaxScaler \n",
    "from sklearn.model_selection import train_test_split"
   ]
  },
  {
   "cell_type": "code",
   "execution_count": 17,
   "metadata": {},
   "outputs": [
    {
     "name": "stdout",
     "output_type": "stream",
     "text": [
      "Index(['Open', 'High', 'Low', 'Close', 'Volume'], dtype='object')\n"
     ]
    }
   ],
   "source": [
    "    train_cols = data.columns[1:]\n",
    "    print(train_cols)\n",
    "\n",
    "    #min_max = MinMaxScaler()\n",
    "    #norm_data = min_max.fit_transform(data[train_cols])\n",
    "    \n",
    "    df_train, df_test = train_test_split(data[train_cols].values, test_size=0.2, train_size=0.8, shuffle=False)\n",
    "    \n",
    "    X_train, y_train = build_series(df_train, y_col, params[\"time_steps\"])\n",
    "    \n",
    "    X_train = trim_series(X_train, params[\"batch_size\"])\n",
    "    y_train = trim_series(y_train, params[\"batch_size\"])\n",
    "    \n",
    "    X_test, y_test = build_series(df_test, y_col, params[\"time_steps\"])\n",
    "    \n",
    "    x_test_val, x_test_t  = np.split(trim_series(X_test, params[\"batch_size\"]),2)\n",
    "    y_test_val, y_test_t  = np.split(trim_series(y_test, params[\"batch_size\"]),2)"
   ]
  },
  {
   "cell_type": "code",
   "execution_count": 26,
   "metadata": {},
   "outputs": [
    {
     "data": {
      "text/plain": [
       "array([[False, False, False, False, False],\n",
       "       [False, False, False, False, False],\n",
       "       [False, False, False, False, False],\n",
       "       [False, False, False, False, False],\n",
       "       [False, False, False, False, False],\n",
       "       [False, False, False, False, False],\n",
       "       [False, False, False, False, False],\n",
       "       [False, False, False, False, False],\n",
       "       [False, False, False, False, False],\n",
       "       [False, False, False, False, False],\n",
       "       [False, False, False, False, False],\n",
       "       [False, False, False, False, False],\n",
       "       [False, False, False, False, False],\n",
       "       [False, False, False, False, False],\n",
       "       [False, False, False, False, False],\n",
       "       [False, False, False, False, False],\n",
       "       [False, False, False, False, False],\n",
       "       [False, False, False, False, False],\n",
       "       [False, False, False, False, False],\n",
       "       [False, False, False, False, False],\n",
       "       [False, False, False, False, False],\n",
       "       [False, False, False, False, False],\n",
       "       [False, False, False, False, False],\n",
       "       [False, False, False, False, False],\n",
       "       [False, False, False, False, False],\n",
       "       [False, False, False, False, False],\n",
       "       [False, False, False, False, False],\n",
       "       [False, False, False, False, False],\n",
       "       [False, False, False, False, False],\n",
       "       [False, False, False, False, False],\n",
       "       [False, False, False, False, False],\n",
       "       [False, False, False, False, False],\n",
       "       [False, False, False, False, False],\n",
       "       [False, False, False, False, False],\n",
       "       [False, False, False, False, False],\n",
       "       [False, False, False, False, False],\n",
       "       [False, False, False, False, False],\n",
       "       [False, False, False, False, False],\n",
       "       [False, False, False, False, False],\n",
       "       [False, False, False, False, False],\n",
       "       [False, False, False, False, False],\n",
       "       [False, False, False, False, False],\n",
       "       [False, False, False, False, False],\n",
       "       [False, False, False, False, False],\n",
       "       [False, False, False, False, False],\n",
       "       [False, False, False, False, False],\n",
       "       [False, False, False, False, False],\n",
       "       [False, False, False, False, False],\n",
       "       [False, False, False, False, False],\n",
       "       [False, False, False, False, False],\n",
       "       [False, False, False, False, False],\n",
       "       [False, False, False, False, False],\n",
       "       [False, False, False, False, False],\n",
       "       [False, False, False, False, False],\n",
       "       [False, False, False, False, False],\n",
       "       [False, False, False, False, False],\n",
       "       [False, False, False, False, False],\n",
       "       [False, False, False, False, False],\n",
       "       [False, False, False, False, False],\n",
       "       [False, False, False, False, False]])"
      ]
     },
     "execution_count": 26,
     "metadata": {},
     "output_type": "execute_result"
    }
   ],
   "source": [
    "X_train[1] == 0"
   ]
  },
  {
   "cell_type": "code",
   "execution_count": 18,
   "metadata": {
    "scrolled": true
   },
   "outputs": [
    {
     "data": {
      "text/plain": [
       "'c:\\\\program files\\\\python37\\\\python.exe'"
      ]
     },
     "execution_count": 18,
     "metadata": {},
     "output_type": "execute_result"
    }
   ],
   "source": [
    "import tensorflow as tf\n",
    "import tensorflow.keras as k\n",
    "import os\n",
    "import sys\n",
    "sys.executable"
   ]
  },
  {
   "cell_type": "code",
   "execution_count": 19,
   "metadata": {},
   "outputs": [],
   "source": [
    "from tensorflow.keras.callbacks import Callback"
   ]
  },
  {
   "cell_type": "code",
   "execution_count": 21,
   "metadata": {},
   "outputs": [],
   "source": [
    "model = k.models.Sequential()\n",
    "    \n",
    "model.add(k.layers.LSTM(100, batch_input_shape=(params[\"batch_size\"], params[\"time_steps\"], 5), dropout=0.0, recurrent_dropout=0.0, stateful=True,     kernel_initializer='random_uniform'))\n",
    "model.add(k.layers.Dropout(0.4))\n",
    "model.add(k.layers.Dense(16,activation='relu'))\n",
    "model.add(k.layers.Dense(1,activation='sigmoid'))\n",
    "    \n",
    "optimizer = k.optimizers.RMSprop(learning_rate=params['learning_rate'])\n",
    "    \n",
    "model.compile(loss='mean_squared_error', optimizer=optimizer)"
   ]
  },
  {
   "cell_type": "code",
   "execution_count": 22,
   "metadata": {},
   "outputs": [
    {
     "data": {
      "text/plain": [
       "[<tf.Variable 'lstm/kernel:0' shape=(5, 400) dtype=float32, numpy=\n",
       " array([[ 0.03339956,  0.01044134,  0.04825074, ..., -0.02405681,\n",
       "          0.04131854, -0.02846896],\n",
       "        [ 0.04800645, -0.0119933 , -0.02640153, ...,  0.04358393,\n",
       "         -0.04085379,  0.03568633],\n",
       "        [ 0.01232033, -0.00140136,  0.01850542, ...,  0.02982669,\n",
       "          0.00198596, -0.02489345],\n",
       "        [-0.02931889, -0.02072837,  0.02082873, ..., -0.01869269,\n",
       "         -0.0140115 , -0.01584889],\n",
       "        [-0.04822308,  0.01095913, -0.01437201, ..., -0.02695822,\n",
       "         -0.02819704, -0.01619891]], dtype=float32)>,\n",
       " <tf.Variable 'lstm/recurrent_kernel:0' shape=(100, 400) dtype=float32, numpy=\n",
       " array([[ 0.0175668 ,  0.08699201, -0.05606735, ..., -0.09992059,\n",
       "          0.01007972, -0.0516233 ],\n",
       "        [ 0.06982919,  0.01204765, -0.01507706, ...,  0.06976823,\n",
       "          0.1290917 , -0.05287135],\n",
       "        [-0.03732526, -0.04291224, -0.03904104, ...,  0.00253574,\n",
       "          0.12224123, -0.02991245],\n",
       "        ...,\n",
       "        [ 0.03692036,  0.08270526, -0.06381433, ...,  0.00787331,\n",
       "          0.02332819,  0.04062472],\n",
       "        [ 0.01299568, -0.06739201,  0.0305027 , ...,  0.00048952,\n",
       "         -0.05667738, -0.05627219],\n",
       "        [ 0.13473742,  0.01200627,  0.03048977, ..., -0.02434062,\n",
       "         -0.0285123 , -0.02057512]], dtype=float32)>,\n",
       " <tf.Variable 'lstm/bias:0' shape=(400,) dtype=float32, numpy=\n",
       " array([0., 0., 0., 0., 0., 0., 0., 0., 0., 0., 0., 0., 0., 0., 0., 0., 0.,\n",
       "        0., 0., 0., 0., 0., 0., 0., 0., 0., 0., 0., 0., 0., 0., 0., 0., 0.,\n",
       "        0., 0., 0., 0., 0., 0., 0., 0., 0., 0., 0., 0., 0., 0., 0., 0., 0.,\n",
       "        0., 0., 0., 0., 0., 0., 0., 0., 0., 0., 0., 0., 0., 0., 0., 0., 0.,\n",
       "        0., 0., 0., 0., 0., 0., 0., 0., 0., 0., 0., 0., 0., 0., 0., 0., 0.,\n",
       "        0., 0., 0., 0., 0., 0., 0., 0., 0., 0., 0., 0., 0., 0., 0., 1., 1.,\n",
       "        1., 1., 1., 1., 1., 1., 1., 1., 1., 1., 1., 1., 1., 1., 1., 1., 1.,\n",
       "        1., 1., 1., 1., 1., 1., 1., 1., 1., 1., 1., 1., 1., 1., 1., 1., 1.,\n",
       "        1., 1., 1., 1., 1., 1., 1., 1., 1., 1., 1., 1., 1., 1., 1., 1., 1.,\n",
       "        1., 1., 1., 1., 1., 1., 1., 1., 1., 1., 1., 1., 1., 1., 1., 1., 1.,\n",
       "        1., 1., 1., 1., 1., 1., 1., 1., 1., 1., 1., 1., 1., 1., 1., 1., 1.,\n",
       "        1., 1., 1., 1., 1., 1., 1., 1., 1., 1., 1., 1., 1., 0., 0., 0., 0.,\n",
       "        0., 0., 0., 0., 0., 0., 0., 0., 0., 0., 0., 0., 0., 0., 0., 0., 0.,\n",
       "        0., 0., 0., 0., 0., 0., 0., 0., 0., 0., 0., 0., 0., 0., 0., 0., 0.,\n",
       "        0., 0., 0., 0., 0., 0., 0., 0., 0., 0., 0., 0., 0., 0., 0., 0., 0.,\n",
       "        0., 0., 0., 0., 0., 0., 0., 0., 0., 0., 0., 0., 0., 0., 0., 0., 0.,\n",
       "        0., 0., 0., 0., 0., 0., 0., 0., 0., 0., 0., 0., 0., 0., 0., 0., 0.,\n",
       "        0., 0., 0., 0., 0., 0., 0., 0., 0., 0., 0., 0., 0., 0., 0., 0., 0.,\n",
       "        0., 0., 0., 0., 0., 0., 0., 0., 0., 0., 0., 0., 0., 0., 0., 0., 0.,\n",
       "        0., 0., 0., 0., 0., 0., 0., 0., 0., 0., 0., 0., 0., 0., 0., 0., 0.,\n",
       "        0., 0., 0., 0., 0., 0., 0., 0., 0., 0., 0., 0., 0., 0., 0., 0., 0.,\n",
       "        0., 0., 0., 0., 0., 0., 0., 0., 0., 0., 0., 0., 0., 0., 0., 0., 0.,\n",
       "        0., 0., 0., 0., 0., 0., 0., 0., 0., 0., 0., 0., 0., 0., 0., 0., 0.,\n",
       "        0., 0., 0., 0., 0., 0., 0., 0., 0.], dtype=float32)>,\n",
       " <tf.Variable 'dense/kernel:0' shape=(100, 16) dtype=float32, numpy=\n",
       " array([[ 0.10032186,  0.21872899, -0.2178605 , ...,  0.0742434 ,\n",
       "          0.17072839, -0.19463038],\n",
       "        [ 0.00650708,  0.0278461 ,  0.02523789, ..., -0.14788228,\n",
       "         -0.05405883,  0.2227816 ],\n",
       "        [ 0.17949203, -0.17619498,  0.11040482, ...,  0.0190361 ,\n",
       "          0.06257677,  0.001707  ],\n",
       "        ...,\n",
       "        [ 0.17027107, -0.01245202,  0.18154785, ..., -0.104784  ,\n",
       "          0.02669916, -0.06689964],\n",
       "        [ 0.0198392 ,  0.07505137, -0.09408426, ...,  0.08073756,\n",
       "          0.17170706, -0.03931066],\n",
       "        [ 0.18357429, -0.18415144,  0.21546519, ...,  0.135506  ,\n",
       "         -0.10978248, -0.04770662]], dtype=float32)>,\n",
       " <tf.Variable 'dense/bias:0' shape=(16,) dtype=float32, numpy=\n",
       " array([0., 0., 0., 0., 0., 0., 0., 0., 0., 0., 0., 0., 0., 0., 0., 0.],\n",
       "       dtype=float32)>,\n",
       " <tf.Variable 'dense_1/kernel:0' shape=(16, 1) dtype=float32, numpy=\n",
       " array([[-0.58741975],\n",
       "        [ 0.2632391 ],\n",
       "        [-0.14364952],\n",
       "        [ 0.09356487],\n",
       "        [-0.54042983],\n",
       "        [-0.0697546 ],\n",
       "        [ 0.0110445 ],\n",
       "        [ 0.32926142],\n",
       "        [ 0.23425323],\n",
       "        [-0.2697635 ],\n",
       "        [-0.07432848],\n",
       "        [-0.50979245],\n",
       "        [-0.56745964],\n",
       "        [-0.5524846 ],\n",
       "        [-0.13688642],\n",
       "        [ 0.11062574]], dtype=float32)>,\n",
       " <tf.Variable 'dense_1/bias:0' shape=(1,) dtype=float32, numpy=array([0.], dtype=float32)>]"
      ]
     },
     "execution_count": 22,
     "metadata": {},
     "output_type": "execute_result"
    }
   ],
   "source": [
    "model.weights"
   ]
  },
  {
   "cell_type": "code",
   "execution_count": 23,
   "metadata": {},
   "outputs": [
    {
     "name": "stdout",
     "output_type": "stream",
     "text": [
      "Train on 2070 samples, validate on 210 samples\n",
      "Epoch 1/30\n",
      "2070/2070 - 6s - loss: nan - val_loss: nan\n",
      "Epoch 2/30\n"
     ]
    },
    {
     "ename": "KeyboardInterrupt",
     "evalue": "",
     "output_type": "error",
     "traceback": [
      "\u001b[1;31m---------------------------------------------------------------------------\u001b[0m",
      "\u001b[1;31mKeyboardInterrupt\u001b[0m                         Traceback (most recent call last)",
      "\u001b[1;32m<ipython-input-23-cfc0391d245c>\u001b[0m in \u001b[0;36m<module>\u001b[1;34m\u001b[0m\n\u001b[0;32m      3\u001b[0m history = model.fit(X_train, y_train, epochs=params[\"epochs\"], verbose=2, batch_size=params[\"batch_size\"],\n\u001b[0;32m      4\u001b[0m                  shuffle=False, validation_data=(trim_series(x_test_val, params[\"batch_size\"]),\n\u001b[1;32m----> 5\u001b[1;33m                  trim_series(y_test_val, params[\"batch_size\"])))\n\u001b[0m",
      "\u001b[1;32m~\\AppData\\Roaming\\Python\\Python37\\site-packages\\tensorflow_core\\python\\keras\\engine\\training.py\u001b[0m in \u001b[0;36mfit\u001b[1;34m(self, x, y, batch_size, epochs, verbose, callbacks, validation_split, validation_data, shuffle, class_weight, sample_weight, initial_epoch, steps_per_epoch, validation_steps, validation_freq, max_queue_size, workers, use_multiprocessing, **kwargs)\u001b[0m\n\u001b[0;32m    726\u001b[0m         \u001b[0mmax_queue_size\u001b[0m\u001b[1;33m=\u001b[0m\u001b[0mmax_queue_size\u001b[0m\u001b[1;33m,\u001b[0m\u001b[1;33m\u001b[0m\u001b[1;33m\u001b[0m\u001b[0m\n\u001b[0;32m    727\u001b[0m         \u001b[0mworkers\u001b[0m\u001b[1;33m=\u001b[0m\u001b[0mworkers\u001b[0m\u001b[1;33m,\u001b[0m\u001b[1;33m\u001b[0m\u001b[1;33m\u001b[0m\u001b[0m\n\u001b[1;32m--> 728\u001b[1;33m         use_multiprocessing=use_multiprocessing)\n\u001b[0m\u001b[0;32m    729\u001b[0m \u001b[1;33m\u001b[0m\u001b[0m\n\u001b[0;32m    730\u001b[0m   def evaluate(self,\n",
      "\u001b[1;32m~\\AppData\\Roaming\\Python\\Python37\\site-packages\\tensorflow_core\\python\\keras\\engine\\training_v2.py\u001b[0m in \u001b[0;36mfit\u001b[1;34m(self, model, x, y, batch_size, epochs, verbose, callbacks, validation_split, validation_data, shuffle, class_weight, sample_weight, initial_epoch, steps_per_epoch, validation_steps, validation_freq, **kwargs)\u001b[0m\n\u001b[0;32m    322\u001b[0m                 \u001b[0mmode\u001b[0m\u001b[1;33m=\u001b[0m\u001b[0mModeKeys\u001b[0m\u001b[1;33m.\u001b[0m\u001b[0mTRAIN\u001b[0m\u001b[1;33m,\u001b[0m\u001b[1;33m\u001b[0m\u001b[1;33m\u001b[0m\u001b[0m\n\u001b[0;32m    323\u001b[0m                 \u001b[0mtraining_context\u001b[0m\u001b[1;33m=\u001b[0m\u001b[0mtraining_context\u001b[0m\u001b[1;33m,\u001b[0m\u001b[1;33m\u001b[0m\u001b[1;33m\u001b[0m\u001b[0m\n\u001b[1;32m--> 324\u001b[1;33m                 total_epochs=epochs)\n\u001b[0m\u001b[0;32m    325\u001b[0m             \u001b[0mcbks\u001b[0m\u001b[1;33m.\u001b[0m\u001b[0mmake_logs\u001b[0m\u001b[1;33m(\u001b[0m\u001b[0mmodel\u001b[0m\u001b[1;33m,\u001b[0m \u001b[0mepoch_logs\u001b[0m\u001b[1;33m,\u001b[0m \u001b[0mtraining_result\u001b[0m\u001b[1;33m,\u001b[0m \u001b[0mModeKeys\u001b[0m\u001b[1;33m.\u001b[0m\u001b[0mTRAIN\u001b[0m\u001b[1;33m)\u001b[0m\u001b[1;33m\u001b[0m\u001b[1;33m\u001b[0m\u001b[0m\n\u001b[0;32m    326\u001b[0m \u001b[1;33m\u001b[0m\u001b[0m\n",
      "\u001b[1;32m~\\AppData\\Roaming\\Python\\Python37\\site-packages\\tensorflow_core\\python\\keras\\engine\\training_v2.py\u001b[0m in \u001b[0;36mrun_one_epoch\u001b[1;34m(model, iterator, execution_function, dataset_size, batch_size, strategy, steps_per_epoch, num_samples, mode, training_context, total_epochs)\u001b[0m\n\u001b[0;32m    121\u001b[0m         step=step, mode=mode, size=current_batch_size) as batch_logs:\n\u001b[0;32m    122\u001b[0m       \u001b[1;32mtry\u001b[0m\u001b[1;33m:\u001b[0m\u001b[1;33m\u001b[0m\u001b[1;33m\u001b[0m\u001b[0m\n\u001b[1;32m--> 123\u001b[1;33m         \u001b[0mbatch_outs\u001b[0m \u001b[1;33m=\u001b[0m \u001b[0mexecution_function\u001b[0m\u001b[1;33m(\u001b[0m\u001b[0miterator\u001b[0m\u001b[1;33m)\u001b[0m\u001b[1;33m\u001b[0m\u001b[1;33m\u001b[0m\u001b[0m\n\u001b[0m\u001b[0;32m    124\u001b[0m       \u001b[1;32mexcept\u001b[0m \u001b[1;33m(\u001b[0m\u001b[0mStopIteration\u001b[0m\u001b[1;33m,\u001b[0m \u001b[0merrors\u001b[0m\u001b[1;33m.\u001b[0m\u001b[0mOutOfRangeError\u001b[0m\u001b[1;33m)\u001b[0m\u001b[1;33m:\u001b[0m\u001b[1;33m\u001b[0m\u001b[1;33m\u001b[0m\u001b[0m\n\u001b[0;32m    125\u001b[0m         \u001b[1;31m# TODO(kaftan): File bug about tf function and errors.OutOfRangeError?\u001b[0m\u001b[1;33m\u001b[0m\u001b[1;33m\u001b[0m\u001b[1;33m\u001b[0m\u001b[0m\n",
      "\u001b[1;32m~\\AppData\\Roaming\\Python\\Python37\\site-packages\\tensorflow_core\\python\\keras\\engine\\training_v2_utils.py\u001b[0m in \u001b[0;36mexecution_function\u001b[1;34m(input_fn)\u001b[0m\n\u001b[0;32m     84\u001b[0m     \u001b[1;31m# `numpy` translates Tensors to values in Eager mode.\u001b[0m\u001b[1;33m\u001b[0m\u001b[1;33m\u001b[0m\u001b[1;33m\u001b[0m\u001b[0m\n\u001b[0;32m     85\u001b[0m     return nest.map_structure(_non_none_constant_value,\n\u001b[1;32m---> 86\u001b[1;33m                               distributed_function(input_fn))\n\u001b[0m\u001b[0;32m     87\u001b[0m \u001b[1;33m\u001b[0m\u001b[0m\n\u001b[0;32m     88\u001b[0m   \u001b[1;32mreturn\u001b[0m \u001b[0mexecution_function\u001b[0m\u001b[1;33m\u001b[0m\u001b[1;33m\u001b[0m\u001b[0m\n",
      "\u001b[1;32m~\\AppData\\Roaming\\Python\\Python37\\site-packages\\tensorflow_core\\python\\eager\\def_function.py\u001b[0m in \u001b[0;36m__call__\u001b[1;34m(self, *args, **kwds)\u001b[0m\n\u001b[0;32m    455\u001b[0m \u001b[1;33m\u001b[0m\u001b[0m\n\u001b[0;32m    456\u001b[0m     \u001b[0mtracing_count\u001b[0m \u001b[1;33m=\u001b[0m \u001b[0mself\u001b[0m\u001b[1;33m.\u001b[0m\u001b[0m_get_tracing_count\u001b[0m\u001b[1;33m(\u001b[0m\u001b[1;33m)\u001b[0m\u001b[1;33m\u001b[0m\u001b[1;33m\u001b[0m\u001b[0m\n\u001b[1;32m--> 457\u001b[1;33m     \u001b[0mresult\u001b[0m \u001b[1;33m=\u001b[0m \u001b[0mself\u001b[0m\u001b[1;33m.\u001b[0m\u001b[0m_call\u001b[0m\u001b[1;33m(\u001b[0m\u001b[1;33m*\u001b[0m\u001b[0margs\u001b[0m\u001b[1;33m,\u001b[0m \u001b[1;33m**\u001b[0m\u001b[0mkwds\u001b[0m\u001b[1;33m)\u001b[0m\u001b[1;33m\u001b[0m\u001b[1;33m\u001b[0m\u001b[0m\n\u001b[0m\u001b[0;32m    458\u001b[0m     \u001b[1;32mif\u001b[0m \u001b[0mtracing_count\u001b[0m \u001b[1;33m==\u001b[0m \u001b[0mself\u001b[0m\u001b[1;33m.\u001b[0m\u001b[0m_get_tracing_count\u001b[0m\u001b[1;33m(\u001b[0m\u001b[1;33m)\u001b[0m\u001b[1;33m:\u001b[0m\u001b[1;33m\u001b[0m\u001b[1;33m\u001b[0m\u001b[0m\n\u001b[0;32m    459\u001b[0m       \u001b[0mself\u001b[0m\u001b[1;33m.\u001b[0m\u001b[0m_call_counter\u001b[0m\u001b[1;33m.\u001b[0m\u001b[0mcalled_without_tracing\u001b[0m\u001b[1;33m(\u001b[0m\u001b[1;33m)\u001b[0m\u001b[1;33m\u001b[0m\u001b[1;33m\u001b[0m\u001b[0m\n",
      "\u001b[1;32m~\\AppData\\Roaming\\Python\\Python37\\site-packages\\tensorflow_core\\python\\eager\\def_function.py\u001b[0m in \u001b[0;36m_call\u001b[1;34m(self, *args, **kwds)\u001b[0m\n\u001b[0;32m    485\u001b[0m       \u001b[1;31m# In this case we have created variables on the first call, so we run the\u001b[0m\u001b[1;33m\u001b[0m\u001b[1;33m\u001b[0m\u001b[1;33m\u001b[0m\u001b[0m\n\u001b[0;32m    486\u001b[0m       \u001b[1;31m# defunned version which is guaranteed to never create variables.\u001b[0m\u001b[1;33m\u001b[0m\u001b[1;33m\u001b[0m\u001b[1;33m\u001b[0m\u001b[0m\n\u001b[1;32m--> 487\u001b[1;33m       \u001b[1;32mreturn\u001b[0m \u001b[0mself\u001b[0m\u001b[1;33m.\u001b[0m\u001b[0m_stateless_fn\u001b[0m\u001b[1;33m(\u001b[0m\u001b[1;33m*\u001b[0m\u001b[0margs\u001b[0m\u001b[1;33m,\u001b[0m \u001b[1;33m**\u001b[0m\u001b[0mkwds\u001b[0m\u001b[1;33m)\u001b[0m  \u001b[1;31m# pylint: disable=not-callable\u001b[0m\u001b[1;33m\u001b[0m\u001b[1;33m\u001b[0m\u001b[0m\n\u001b[0m\u001b[0;32m    488\u001b[0m     \u001b[1;32melif\u001b[0m \u001b[0mself\u001b[0m\u001b[1;33m.\u001b[0m\u001b[0m_stateful_fn\u001b[0m \u001b[1;32mis\u001b[0m \u001b[1;32mnot\u001b[0m \u001b[1;32mNone\u001b[0m\u001b[1;33m:\u001b[0m\u001b[1;33m\u001b[0m\u001b[1;33m\u001b[0m\u001b[0m\n\u001b[0;32m    489\u001b[0m       \u001b[1;31m# Release the lock early so that multiple threads can perform the call\u001b[0m\u001b[1;33m\u001b[0m\u001b[1;33m\u001b[0m\u001b[1;33m\u001b[0m\u001b[0m\n",
      "\u001b[1;32m~\\AppData\\Roaming\\Python\\Python37\\site-packages\\tensorflow_core\\python\\eager\\function.py\u001b[0m in \u001b[0;36m__call__\u001b[1;34m(self, *args, **kwargs)\u001b[0m\n\u001b[0;32m   1821\u001b[0m     \u001b[1;34m\"\"\"Calls a graph function specialized to the inputs.\"\"\"\u001b[0m\u001b[1;33m\u001b[0m\u001b[1;33m\u001b[0m\u001b[0m\n\u001b[0;32m   1822\u001b[0m     \u001b[0mgraph_function\u001b[0m\u001b[1;33m,\u001b[0m \u001b[0margs\u001b[0m\u001b[1;33m,\u001b[0m \u001b[0mkwargs\u001b[0m \u001b[1;33m=\u001b[0m \u001b[0mself\u001b[0m\u001b[1;33m.\u001b[0m\u001b[0m_maybe_define_function\u001b[0m\u001b[1;33m(\u001b[0m\u001b[0margs\u001b[0m\u001b[1;33m,\u001b[0m \u001b[0mkwargs\u001b[0m\u001b[1;33m)\u001b[0m\u001b[1;33m\u001b[0m\u001b[1;33m\u001b[0m\u001b[0m\n\u001b[1;32m-> 1823\u001b[1;33m     \u001b[1;32mreturn\u001b[0m \u001b[0mgraph_function\u001b[0m\u001b[1;33m.\u001b[0m\u001b[0m_filtered_call\u001b[0m\u001b[1;33m(\u001b[0m\u001b[0margs\u001b[0m\u001b[1;33m,\u001b[0m \u001b[0mkwargs\u001b[0m\u001b[1;33m)\u001b[0m  \u001b[1;31m# pylint: disable=protected-access\u001b[0m\u001b[1;33m\u001b[0m\u001b[1;33m\u001b[0m\u001b[0m\n\u001b[0m\u001b[0;32m   1824\u001b[0m \u001b[1;33m\u001b[0m\u001b[0m\n\u001b[0;32m   1825\u001b[0m   \u001b[1;33m@\u001b[0m\u001b[0mproperty\u001b[0m\u001b[1;33m\u001b[0m\u001b[1;33m\u001b[0m\u001b[0m\n",
      "\u001b[1;32m~\\AppData\\Roaming\\Python\\Python37\\site-packages\\tensorflow_core\\python\\eager\\function.py\u001b[0m in \u001b[0;36m_filtered_call\u001b[1;34m(self, args, kwargs)\u001b[0m\n\u001b[0;32m   1139\u001b[0m          if isinstance(t, (ops.Tensor,\n\u001b[0;32m   1140\u001b[0m                            resource_variable_ops.BaseResourceVariable))),\n\u001b[1;32m-> 1141\u001b[1;33m         self.captured_inputs)\n\u001b[0m\u001b[0;32m   1142\u001b[0m \u001b[1;33m\u001b[0m\u001b[0m\n\u001b[0;32m   1143\u001b[0m   \u001b[1;32mdef\u001b[0m \u001b[0m_call_flat\u001b[0m\u001b[1;33m(\u001b[0m\u001b[0mself\u001b[0m\u001b[1;33m,\u001b[0m \u001b[0margs\u001b[0m\u001b[1;33m,\u001b[0m \u001b[0mcaptured_inputs\u001b[0m\u001b[1;33m,\u001b[0m \u001b[0mcancellation_manager\u001b[0m\u001b[1;33m=\u001b[0m\u001b[1;32mNone\u001b[0m\u001b[1;33m)\u001b[0m\u001b[1;33m:\u001b[0m\u001b[1;33m\u001b[0m\u001b[1;33m\u001b[0m\u001b[0m\n",
      "\u001b[1;32m~\\AppData\\Roaming\\Python\\Python37\\site-packages\\tensorflow_core\\python\\eager\\function.py\u001b[0m in \u001b[0;36m_call_flat\u001b[1;34m(self, args, captured_inputs, cancellation_manager)\u001b[0m\n\u001b[0;32m   1222\u001b[0m     \u001b[1;32mif\u001b[0m \u001b[0mexecuting_eagerly\u001b[0m\u001b[1;33m:\u001b[0m\u001b[1;33m\u001b[0m\u001b[1;33m\u001b[0m\u001b[0m\n\u001b[0;32m   1223\u001b[0m       flat_outputs = forward_function.call(\n\u001b[1;32m-> 1224\u001b[1;33m           ctx, args, cancellation_manager=cancellation_manager)\n\u001b[0m\u001b[0;32m   1225\u001b[0m     \u001b[1;32melse\u001b[0m\u001b[1;33m:\u001b[0m\u001b[1;33m\u001b[0m\u001b[1;33m\u001b[0m\u001b[0m\n\u001b[0;32m   1226\u001b[0m       \u001b[0mgradient_name\u001b[0m \u001b[1;33m=\u001b[0m \u001b[0mself\u001b[0m\u001b[1;33m.\u001b[0m\u001b[0m_delayed_rewrite_functions\u001b[0m\u001b[1;33m.\u001b[0m\u001b[0mregister\u001b[0m\u001b[1;33m(\u001b[0m\u001b[1;33m)\u001b[0m\u001b[1;33m\u001b[0m\u001b[1;33m\u001b[0m\u001b[0m\n",
      "\u001b[1;32m~\\AppData\\Roaming\\Python\\Python37\\site-packages\\tensorflow_core\\python\\eager\\function.py\u001b[0m in \u001b[0;36mcall\u001b[1;34m(self, ctx, args, cancellation_manager)\u001b[0m\n\u001b[0;32m    509\u001b[0m               \u001b[0minputs\u001b[0m\u001b[1;33m=\u001b[0m\u001b[0margs\u001b[0m\u001b[1;33m,\u001b[0m\u001b[1;33m\u001b[0m\u001b[1;33m\u001b[0m\u001b[0m\n\u001b[0;32m    510\u001b[0m               \u001b[0mattrs\u001b[0m\u001b[1;33m=\u001b[0m\u001b[1;33m(\u001b[0m\u001b[1;34m\"executor_type\"\u001b[0m\u001b[1;33m,\u001b[0m \u001b[0mexecutor_type\u001b[0m\u001b[1;33m,\u001b[0m \u001b[1;34m\"config_proto\"\u001b[0m\u001b[1;33m,\u001b[0m \u001b[0mconfig\u001b[0m\u001b[1;33m)\u001b[0m\u001b[1;33m,\u001b[0m\u001b[1;33m\u001b[0m\u001b[1;33m\u001b[0m\u001b[0m\n\u001b[1;32m--> 511\u001b[1;33m               ctx=ctx)\n\u001b[0m\u001b[0;32m    512\u001b[0m         \u001b[1;32melse\u001b[0m\u001b[1;33m:\u001b[0m\u001b[1;33m\u001b[0m\u001b[1;33m\u001b[0m\u001b[0m\n\u001b[0;32m    513\u001b[0m           outputs = execute.execute_with_cancellation(\n",
      "\u001b[1;32m~\\AppData\\Roaming\\Python\\Python37\\site-packages\\tensorflow_core\\python\\eager\\execute.py\u001b[0m in \u001b[0;36mquick_execute\u001b[1;34m(op_name, num_outputs, inputs, attrs, ctx, name)\u001b[0m\n\u001b[0;32m     59\u001b[0m     tensors = pywrap_tensorflow.TFE_Py_Execute(ctx._handle, device_name,\n\u001b[0;32m     60\u001b[0m                                                \u001b[0mop_name\u001b[0m\u001b[1;33m,\u001b[0m \u001b[0minputs\u001b[0m\u001b[1;33m,\u001b[0m \u001b[0mattrs\u001b[0m\u001b[1;33m,\u001b[0m\u001b[1;33m\u001b[0m\u001b[1;33m\u001b[0m\u001b[0m\n\u001b[1;32m---> 61\u001b[1;33m                                                num_outputs)\n\u001b[0m\u001b[0;32m     62\u001b[0m   \u001b[1;32mexcept\u001b[0m \u001b[0mcore\u001b[0m\u001b[1;33m.\u001b[0m\u001b[0m_NotOkStatusException\u001b[0m \u001b[1;32mas\u001b[0m \u001b[0me\u001b[0m\u001b[1;33m:\u001b[0m\u001b[1;33m\u001b[0m\u001b[1;33m\u001b[0m\u001b[0m\n\u001b[0;32m     63\u001b[0m     \u001b[1;32mif\u001b[0m \u001b[0mname\u001b[0m \u001b[1;32mis\u001b[0m \u001b[1;32mnot\u001b[0m \u001b[1;32mNone\u001b[0m\u001b[1;33m:\u001b[0m\u001b[1;33m\u001b[0m\u001b[1;33m\u001b[0m\u001b[0m\n",
      "\u001b[1;31mKeyboardInterrupt\u001b[0m: "
     ]
    }
   ],
   "source": [
    "csv_logger = k.callbacks.CSVLogger(os.path.join(OUTPUT_PATH, 'Accuracy' + '.log'), append=True)\n",
    "    \n",
    "history = model.fit(X_train, y_train, epochs=params[\"epochs\"], verbose=2, batch_size=params[\"batch_size\"],\n",
    "                 shuffle=False, validation_data=(trim_series(x_test_val, params[\"batch_size\"]),\n",
    "                 trim_series(y_test_val, params[\"batch_size\"])))"
   ]
  },
  {
   "cell_type": "code",
   "execution_count": null,
   "metadata": {},
   "outputs": [],
   "source": [
    "y_pred = model.predict(trim_series(x_test_t,batch=params[\"batch_size\"]),batch_size=params[\"batch_size\"])\n",
    "\n",
    "error = k.metrics.mean_squared_error(y_test_t,y_pred)"
   ]
  },
  {
   "cell_type": "code",
   "execution_count": null,
   "metadata": {},
   "outputs": [],
   "source": [
    "plt.plot(error)"
   ]
  },
  {
   "cell_type": "code",
   "execution_count": null,
   "metadata": {},
   "outputs": [],
   "source": [
    "y_pred_org = (y_pred * min_max.data_range_[3]) + min_max.data_min_[3]\n",
    "y_test_org = (y_test_t * min_max.data_range_[3]) + min_max.data_min_[3]"
   ]
  },
  {
   "cell_type": "code",
   "execution_count": null,
   "metadata": {},
   "outputs": [],
   "source": [
    "plt.figure(figsize=(12,8))\n",
    "plt.plot(history.history['loss'])\n",
    "plt.plot(history.history['val_loss'])\n",
    "plt.xlabel(\"Iteration\")\n",
    "plt.ylabel(\"Error\")"
   ]
  },
  {
   "cell_type": "code",
   "execution_count": null,
   "metadata": {},
   "outputs": [],
   "source": [
    "plt.figure(figsize=(12, 8))\n",
    "plt.plot(y_pred_org)\n",
    "plt.plot(y_test_org)"
   ]
  },
  {
   "cell_type": "markdown",
   "metadata": {},
   "source": [
    "# BAYESIEN OPTIMIZATION"
   ]
  },
  {
   "cell_type": "code",
   "execution_count": null,
   "metadata": {},
   "outputs": [],
   "source": [
    "\n",
    "def Data(data, params):\n",
    "    \n",
    "    train_cols = data.columns[1:]\n",
    "    print(train_cols)\n",
    "\n",
    "    min_max = MinMaxScaler()\n",
    "    norm_data = min_max.fit_transform(data[train_cols])\n",
    "    \n",
    "    X_train, X_test = train_test_split(norm_data, test_size=0.2, train_size=0.8, shuffle=False)\n",
    "    \n",
    "    x_t, y_t = build_series(X_train, y_col, params[\"time_steps\"])\n",
    "    x_t = trim_series(x_t, params[\"batch_size\"])\n",
    "    y_t = trim_series(y_t, params[\"batch_size\"])\n",
    "    x_test, y_test = build_series(X_test, y_col, params[\"time_steps\"])\n",
    "    x_test  = trim_series(x_test, params[\"batch_size\"])\n",
    "    y_test  = trim_series(y_test, params[\"batch_size\"])\n",
    "    \n",
    "    return x_t, y_t, x_test, y_test\n"
   ]
  },
  {
   "cell_type": "code",
   "execution_count": null,
   "metadata": {},
   "outputs": [],
   "source": [
    "def Search_Space():\n",
    "    \n",
    "    search_space = {\n",
    "    'batch_size': hp.choice('bs', [30,40,50,60,70]),\n",
    "    'time_steps': hp.choice('ts', [30,50,60,80,90]),\n",
    "    \"lr\": hp.uniform('lr',0,1),\n",
    "    \"epochs\": hp.choice('epochs', [15]),\n",
    "    \"optimizer\": hp.choice('optmz',[\"sgd\", \"rms\"])}\n",
    "    \n",
    "    return search_space"
   ]
  },
  {
   "cell_type": "code",
   "execution_count": null,
   "metadata": {},
   "outputs": [],
   "source": [
    "\n",
    "def create_model_hypopt(params):\n",
    "    print(\"Trying params:\",params)\n",
    "    \n",
    "    batch_size = params[\"batch_size\"]\n",
    "    time_steps = params[\"time_steps\"]\n",
    "    \n",
    "    \n",
    "    x_train_ts, y_train_ts, x_test_ts, y_test_ts = Data(data, params)\n",
    "    \n",
    "    lstm_model = k.models.Sequential()\n",
    "    \n",
    "    lstm_model.add(k.layers.LSTM(100, batch_input_shape=(batch_size, time_steps, x_train_ts.shape[2]), dropout=0,\n",
    "                        recurrent_dropout=0, stateful=True, return_sequences=True,\n",
    "                        kernel_initializer='random_uniform'))  \n",
    "    lstm_model.add(k.layers.LSTM(32, dropout=0.4))\n",
    "    lstm_model.add(k.layers.Dense(8, activation='relu'))\n",
    "    lstm_model.add(k.layers.Dense(1, activation='sigmoid'))\n",
    "\n",
    "    lr = params[\"lr\"]\n",
    "    epochs = params[\"epochs\"]\n",
    "    \n",
    "    if params[\"optimizer\"] == 'rms':\n",
    "        optimizer = k.optimizers.RMSprop(lr=lr)\n",
    "    else:\n",
    "        optimizer = k.optimizers.SGD(lr=lr, decay=1e-6, momentum=0.9, nesterov=True)\n",
    "\n",
    "    lstm_model.compile(loss='mean_squared_error', optimizer=optimizer)\n",
    "    \n",
    "    csv_logger = k.callbacks.CSVLogger(os.path.join(OUTPUT_PATH, 'STOCK_PREDICTION' + '.log'), append=True)\n",
    "    \n",
    "    history = lstm_model.fit(x_train_ts, y_train_ts, epochs=epochs, verbose=2, batch_size=batch_size,\n",
    "                             validation_data=[x_test_ts, y_test_ts], callbacks =[csv_logger] )\n",
    "   \n",
    "    val_error = np.amin(history.history['val_loss'])\n",
    "    \n",
    "    print('Best validation error of epoch:', val_error)\n",
    "    \n",
    "    return {'loss': val_error, 'status': STATUS_OK, 'model': lstm_model}\n"
   ]
  },
  {
   "cell_type": "code",
   "execution_count": null,
   "metadata": {},
   "outputs": [],
   "source": [
    "\n",
    "def Bayseien_Optimization(data): \n",
    "    \n",
    "    search_space = Search_Space()\n",
    "        \n",
    "    trials = Trials()\n",
    "\n",
    "    best = fmin(create_model_hypopt, space=search_space,algo=tpe.suggest,max_evals=10, trials=trials)\n",
    "    \n",
    "    return best\n"
   ]
  },
  {
   "cell_type": "code",
   "execution_count": null,
   "metadata": {},
   "outputs": [],
   "source": [
    "Bayseien_Optimization(data)"
   ]
  },
  {
   "cell_type": "markdown",
   "metadata": {},
   "source": [
    "# GRID SEARCH"
   ]
  },
  {
   "cell_type": "code",
   "execution_count": null,
   "metadata": {},
   "outputs": [],
   "source": [
    "def Model(params):\n",
    "    model = k.models.Sequential()\n",
    "    \n",
    "    model.add(k.layers.LSTM(128, batch_input_shape=(params[\"batch_size\"], params[\"time_steps\"], 5), dropout=0.0, recurrent_dropout=0.0, stateful=True,     kernel_initializer='random_uniform'))\n",
    "    model.add(k.layers.Dropout(0.2))\n",
    "    model.add(k.layers.Dense(64,activation='relu'))\n",
    "    model.add(k.layers.Dense(1,activation='sigmoid'))\n",
    "    \n",
    "    optimizer = k.optimizers.RMSprop(learning_rate=params['learning_rate'])\n",
    "    \n",
    "    model.compile(loss='mean_squared_error', optimizer=optimizer)\n",
    "    return model"
   ]
  },
  {
   "cell_type": "code",
   "execution_count": null,
   "metadata": {},
   "outputs": [],
   "source": [
    "\n",
    "def Grid_Search(Model, params, x_t, y_t):\n",
    "    \n",
    "    parameters = dict(epochs = [10, 20, 30], batch_size = [20, 60, 90], learning_rate = [0.1, 0.01, 0.001], time_steps = [60, 90, 30])\n",
    "\n",
    "    model_grid = k.wrappers.scikit_learn.KerasRegressor(build_fn=Model, params=params)\n",
    "\n",
    "    grid = GridSearchCV(estimator=model_grid, param_grid=parameters, cv=3)\n",
    "\n",
    "    grid_result = grid.fit(x_t, y_t)\n",
    "    \n",
    "    return grid_result\n"
   ]
  },
  {
   "cell_type": "code",
   "execution_count": null,
   "metadata": {},
   "outputs": [],
   "source": [
    "Grid_Search(Model,params, X_train, y_train)"
   ]
  },
  {
   "cell_type": "code",
   "execution_count": null,
   "metadata": {},
   "outputs": [],
   "source": []
  }
 ],
 "metadata": {
  "kernelspec": {
   "display_name": "Python 3",
   "language": "python",
   "name": "python3"
  },
  "language_info": {
   "codemirror_mode": {
    "name": "ipython",
    "version": 3
   },
   "file_extension": ".py",
   "mimetype": "text/x-python",
   "name": "python",
   "nbconvert_exporter": "python",
   "pygments_lexer": "ipython3",
   "version": "3.7.5"
  }
 },
 "nbformat": 4,
 "nbformat_minor": 2
}
